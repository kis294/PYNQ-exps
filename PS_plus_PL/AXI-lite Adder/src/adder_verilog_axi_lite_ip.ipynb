{
 "cells": [
  {
   "cell_type": "code",
   "execution_count": 1,
   "id": "c2f6b191",
   "metadata": {},
   "outputs": [],
   "source": [
    "from pynq import Overlay\n"
   ]
  },
  {
   "cell_type": "code",
   "execution_count": 2,
   "id": "c9e94c7e",
   "metadata": {
    "scrolled": true
   },
   "outputs": [
    {
     "data": {
      "application/javascript": [
       "\n",
       "try {\n",
       "require(['notebook/js/codecell'], function(codecell) {\n",
       "  codecell.CodeCell.options_default.highlight_modes[\n",
       "      'magic_text/x-csrc'] = {'reg':[/^%%microblaze/]};\n",
       "  Jupyter.notebook.events.one('kernel_ready.Kernel', function(){\n",
       "      Jupyter.notebook.get_cells().map(function(cell){\n",
       "          if (cell.cell_type == 'code'){ cell.auto_highlight(); } }) ;\n",
       "  });\n",
       "});\n",
       "} catch (e) {};\n"
      ]
     },
     "metadata": {},
     "output_type": "display_data"
    },
    {
     "data": {
      "application/javascript": [
       "\n",
       "try {\n",
       "require(['notebook/js/codecell'], function(codecell) {\n",
       "  codecell.CodeCell.options_default.highlight_modes[\n",
       "      'magic_text/x-csrc'] = {'reg':[/^%%pybind11/]};\n",
       "  Jupyter.notebook.events.one('kernel_ready.Kernel', function(){\n",
       "      Jupyter.notebook.get_cells().map(function(cell){\n",
       "          if (cell.cell_type == 'code'){ cell.auto_highlight(); } }) ;\n",
       "  });\n",
       "});\n",
       "} catch (e) {};\n"
      ]
     },
     "metadata": {},
     "output_type": "display_data"
    }
   ],
   "source": [
    "ol = Overlay(\"/home/xilinx/pynq/bitstream/my_adder.bit\")"
   ]
  },
  {
   "cell_type": "code",
   "execution_count": 3,
   "id": "67c3786b",
   "metadata": {},
   "outputs": [],
   "source": [
    "ol.download()"
   ]
  },
  {
   "cell_type": "code",
   "execution_count": 4,
   "id": "1cbda5cb",
   "metadata": {},
   "outputs": [
    {
     "data": {
      "text/plain": [
       "'2025/2/2 7:24:56 +847944'"
      ]
     },
     "execution_count": 4,
     "metadata": {},
     "output_type": "execute_result"
    }
   ],
   "source": [
    "ol.is_loaded()\n",
    "ol.timestamp"
   ]
  },
  {
   "cell_type": "code",
   "execution_count": 5,
   "id": "ac518dc3",
   "metadata": {},
   "outputs": [],
   "source": [
    "from pynq import MMIO"
   ]
  },
  {
   "cell_type": "code",
   "execution_count": 6,
   "id": "c13647ae",
   "metadata": {},
   "outputs": [],
   "source": [
    "base_addr = 0x43c00000"
   ]
  },
  {
   "cell_type": "code",
   "execution_count": 7,
   "id": "3a307c62",
   "metadata": {},
   "outputs": [],
   "source": [
    "op1_off  = 0x00\n",
    "op2_off  = 0x04\n",
    "sum_out  = 0x08\n",
    "control  = 0x0C"
   ]
  },
  {
   "cell_type": "code",
   "execution_count": 8,
   "id": "d757f222",
   "metadata": {},
   "outputs": [],
   "source": [
    "mmio = MMIO(base_addr,1024)"
   ]
  },
  {
   "cell_type": "code",
   "execution_count": 9,
   "id": "fe2764c5",
   "metadata": {},
   "outputs": [
    {
     "data": {
      "text/plain": [
       "0"
      ]
     },
     "execution_count": 9,
     "metadata": {},
     "output_type": "execute_result"
    }
   ],
   "source": [
    "mmio.read(op1_off)\n",
    "mmio.read(op2_off)\n",
    "mmio.read(sum_out)\n",
    "mmio.read(control)"
   ]
  },
  {
   "cell_type": "code",
   "execution_count": 13,
   "id": "e1a63430",
   "metadata": {},
   "outputs": [],
   "source": [
    "mmio.write(op1_off,0)\n",
    "mmio.write(op2_off,28)\n",
    "mmio.write(control,0x01)"
   ]
  },
  {
   "cell_type": "code",
   "execution_count": 14,
   "id": "fa80a057",
   "metadata": {},
   "outputs": [
    {
     "data": {
      "text/plain": [
       "28"
      ]
     },
     "execution_count": 14,
     "metadata": {},
     "output_type": "execute_result"
    }
   ],
   "source": [
    "mmio.read(sum_out)"
   ]
  },
  {
   "cell_type": "code",
   "execution_count": 16,
   "id": "9a1b4d0b",
   "metadata": {},
   "outputs": [
    {
     "data": {
      "text/plain": [
       "0"
      ]
     },
     "execution_count": 16,
     "metadata": {},
     "output_type": "execute_result"
    }
   ],
   "source": [
    "mmio.write(control,0x02)\n",
    "mmio.read(sum_out)"
   ]
  },
  {
   "cell_type": "code",
   "execution_count": null,
   "id": "b63f5a69",
   "metadata": {},
   "outputs": [],
   "source": []
  }
 ],
 "metadata": {
  "kernelspec": {
   "display_name": "Python 3 (ipykernel)",
   "language": "python",
   "name": "python3"
  },
  "language_info": {
   "codemirror_mode": {
    "name": "ipython",
    "version": 3
   },
   "file_extension": ".py",
   "mimetype": "text/x-python",
   "name": "python",
   "nbconvert_exporter": "python",
   "pygments_lexer": "ipython3",
   "version": "3.10.4"
  }
 },
 "nbformat": 4,
 "nbformat_minor": 5
}
